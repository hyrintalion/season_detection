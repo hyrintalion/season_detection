{
 "cells": [
  {
   "cell_type": "code",
   "execution_count": 19,
   "outputs": [],
   "source": [
    "import numpy as np\n",
    "import pandas as pd\n",
    "from fastai.vision.all import *\n",
    "from fastai.vision.widgets import *"
   ],
   "metadata": {
    "collapsed": false,
    "ExecuteTime": {
     "end_time": "2023-11-16T19:10:33.542093Z",
     "start_time": "2023-11-16T19:10:33.528678Z"
    }
   },
   "id": "f95a824617610bab"
  },
  {
   "cell_type": "code",
   "execution_count": 26,
   "outputs": [
    {
     "data": {
      "text/plain": "(#1) [Path('export.pkl')]"
     },
     "execution_count": 26,
     "metadata": {},
     "output_type": "execute_result"
    }
   ],
   "source": [
    "learn_inf = load_learner('export.pkl')\n",
    "\n",
    "\n",
    "path = Path()\n",
    "path.ls(file_exts='.pkl')\n",
    "     \n"
   ],
   "metadata": {
    "collapsed": false,
    "ExecuteTime": {
     "end_time": "2023-11-17T15:55:11.600482Z",
     "start_time": "2023-11-17T15:55:10.628603Z"
    }
   },
   "id": "7fa440c6c39951d3"
  },
  {
   "cell_type": "code",
   "execution_count": 25,
   "outputs": [
    {
     "data": {
      "text/plain": "Label(value='Prediction: autumn; Probability: 0.9340')",
      "application/vnd.jupyter.widget-view+json": {
       "version_major": 2,
       "version_minor": 0,
       "model_id": "ef61ffb71020451593badc53b5f9f390"
      }
     },
     "metadata": {},
     "output_type": "display_data"
    }
   ],
   "source": [
    "lbl_pred = widgets.Label()\n",
    "lbl_pred.value = f'Prediction: {pred}; Probability: {probs[pred_idx]:.04f}'\n",
    "lbl_pred"
   ],
   "metadata": {
    "collapsed": false,
    "ExecuteTime": {
     "end_time": "2023-11-17T15:53:04.763919Z",
     "start_time": "2023-11-17T15:53:04.380139Z"
    }
   },
   "id": "330744c6c30087e"
  },
  {
   "cell_type": "code",
   "execution_count": 22,
   "outputs": [
    {
     "data": {
      "text/plain": "Button(description='Classify', style=ButtonStyle())",
      "application/vnd.jupyter.widget-view+json": {
       "version_major": 2,
       "version_minor": 0,
       "model_id": "f14bb2f9da5e4a01891274e39f9717bb"
      }
     },
     "metadata": {},
     "output_type": "display_data"
    }
   ],
   "source": [
    "btn_run = widgets.Button(description='Classify')\n",
    "btn_run"
   ],
   "metadata": {
    "collapsed": false,
    "ExecuteTime": {
     "end_time": "2023-11-16T19:11:26.313225Z",
     "start_time": "2023-11-16T19:11:26.266556Z"
    }
   },
   "id": "a2803b71aba22300"
  },
  {
   "cell_type": "code",
   "execution_count": 23,
   "outputs": [],
   "source": [
    "def on_click_classify(change):\n",
    "    img = PILImage.create(btn_upload.data[-1])\n",
    "    out_pl.clear_output()\n",
    "    with out_pl: display(img.to_thumb(128,128))\n",
    "    pred,pred_idx,probs = learn_inf.predict(img)\n",
    "    lbl_pred.value = f'Prediction: {pred}; Probability: {probs[pred_idx]:.04f}'\n",
    "\n",
    "btn_run.on_click(on_click_classify)\n"
   ],
   "metadata": {
    "collapsed": false,
    "ExecuteTime": {
     "end_time": "2023-11-16T19:11:26.314025Z",
     "start_time": "2023-11-16T19:11:26.310825Z"
    }
   },
   "id": "34b1080dcbe16ab5"
  },
  {
   "cell_type": "code",
   "execution_count": 24,
   "outputs": [
    {
     "data": {
      "text/plain": "VBox(children=(Label(value='Select your pic!'), FileUpload(value={}, description='Upload'), Button(description…",
      "application/vnd.jupyter.widget-view+json": {
       "version_major": 2,
       "version_minor": 0,
       "model_id": "b834b5555fe342d1a44ec8e24071e9ac"
      }
     },
     "metadata": {},
     "output_type": "display_data"
    }
   ],
   "source": [
    "btn_upload = widgets.FileUpload()\n",
    "     \n",
    "VBox([widgets.Label('Select your pic!'), \n",
    "      btn_upload, btn_run, out_pl, lbl_pred])\n",
    "     \n"
   ],
   "metadata": {
    "collapsed": false,
    "ExecuteTime": {
     "end_time": "2023-11-16T19:11:27.006701Z",
     "start_time": "2023-11-16T19:11:26.458773Z"
    }
   },
   "id": "1151820376086a17"
  },
  {
   "cell_type": "code",
   "execution_count": 24,
   "outputs": [],
   "source": [],
   "metadata": {
    "collapsed": false,
    "ExecuteTime": {
     "end_time": "2023-11-16T19:11:27.010457Z",
     "start_time": "2023-11-16T19:11:26.507379Z"
    }
   },
   "id": "4fa0c10a264e4a3e"
  }
 ],
 "metadata": {
  "kernelspec": {
   "display_name": "Python 3",
   "language": "python",
   "name": "python3"
  },
  "language_info": {
   "codemirror_mode": {
    "name": "ipython",
    "version": 2
   },
   "file_extension": ".py",
   "mimetype": "text/x-python",
   "name": "python",
   "nbconvert_exporter": "python",
   "pygments_lexer": "ipython2",
   "version": "2.7.6"
  }
 },
 "nbformat": 4,
 "nbformat_minor": 5
}
