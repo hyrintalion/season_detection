{
 "cells": [
  {
   "cell_type": "code",
   "execution_count": 1,
   "id": "initial_id",
   "metadata": {
    "collapsed": true,
    "ExecuteTime": {
     "end_time": "2023-11-17T15:47:40.375152Z",
     "start_time": "2023-11-17T15:47:18.931475Z"
    }
   },
   "outputs": [
    {
     "name": "stdout",
     "output_type": "stream",
     "text": [
      "Requirement already satisfied: voila in /Users/hyrintalion/anaconda3/lib/python3.11/site-packages (0.5.5)\r\n",
      "Requirement already satisfied: jupyter-client<9,>=7.4.4 in /Users/hyrintalion/anaconda3/lib/python3.11/site-packages (from voila) (7.4.9)\r\n",
      "Requirement already satisfied: jupyter-core>=4.11.0 in /Users/hyrintalion/anaconda3/lib/python3.11/site-packages (from voila) (5.3.0)\r\n",
      "Requirement already satisfied: jupyter-server<3,>=2.0.0 in /Users/hyrintalion/anaconda3/lib/python3.11/site-packages (from voila) (2.10.1)\r\n",
      "Requirement already satisfied: jupyterlab-server<3,>=2.3.0 in /Users/hyrintalion/anaconda3/lib/python3.11/site-packages (from voila) (2.22.0)\r\n",
      "Requirement already satisfied: nbclient<0.8,>=0.4.0 in /Users/hyrintalion/anaconda3/lib/python3.11/site-packages (from voila) (0.5.13)\r\n",
      "Requirement already satisfied: nbconvert<8,>=6.4.5 in /Users/hyrintalion/anaconda3/lib/python3.11/site-packages (from voila) (6.5.4)\r\n",
      "Requirement already satisfied: traitlets<6,>=5.0.3 in /Users/hyrintalion/anaconda3/lib/python3.11/site-packages (from voila) (5.7.1)\r\n",
      "Requirement already satisfied: websockets>=9.0 in /Users/hyrintalion/anaconda3/lib/python3.11/site-packages (from voila) (12.0)\r\n",
      "Requirement already satisfied: entrypoints in /Users/hyrintalion/anaconda3/lib/python3.11/site-packages (from jupyter-client<9,>=7.4.4->voila) (0.4)\r\n",
      "Requirement already satisfied: nest-asyncio>=1.5.4 in /Users/hyrintalion/anaconda3/lib/python3.11/site-packages (from jupyter-client<9,>=7.4.4->voila) (1.5.6)\r\n",
      "Requirement already satisfied: python-dateutil>=2.8.2 in /Users/hyrintalion/anaconda3/lib/python3.11/site-packages (from jupyter-client<9,>=7.4.4->voila) (2.8.2)\r\n",
      "Requirement already satisfied: pyzmq>=23.0 in /Users/hyrintalion/anaconda3/lib/python3.11/site-packages (from jupyter-client<9,>=7.4.4->voila) (25.1.1)\r\n",
      "Requirement already satisfied: tornado>=6.2 in /Users/hyrintalion/anaconda3/lib/python3.11/site-packages (from jupyter-client<9,>=7.4.4->voila) (6.3.2)\r\n",
      "Requirement already satisfied: platformdirs>=2.5 in /Users/hyrintalion/anaconda3/lib/python3.11/site-packages (from jupyter-core>=4.11.0->voila) (3.10.0)\r\n",
      "Requirement already satisfied: anyio>=3.1.0 in /Users/hyrintalion/anaconda3/lib/python3.11/site-packages (from jupyter-server<3,>=2.0.0->voila) (3.5.0)\r\n",
      "Requirement already satisfied: argon2-cffi in /Users/hyrintalion/anaconda3/lib/python3.11/site-packages (from jupyter-server<3,>=2.0.0->voila) (21.3.0)\r\n",
      "Requirement already satisfied: jinja2 in /Users/hyrintalion/anaconda3/lib/python3.11/site-packages (from jupyter-server<3,>=2.0.0->voila) (3.1.2)\r\n",
      "Requirement already satisfied: jupyter-events>=0.9.0 in /Users/hyrintalion/anaconda3/lib/python3.11/site-packages (from jupyter-server<3,>=2.0.0->voila) (0.9.0)\r\n",
      "Requirement already satisfied: jupyter-server-terminals in /Users/hyrintalion/anaconda3/lib/python3.11/site-packages (from jupyter-server<3,>=2.0.0->voila) (0.4.4)\r\n",
      "Requirement already satisfied: nbformat>=5.3.0 in /Users/hyrintalion/anaconda3/lib/python3.11/site-packages (from jupyter-server<3,>=2.0.0->voila) (5.9.2)\r\n",
      "Requirement already satisfied: overrides in /Users/hyrintalion/anaconda3/lib/python3.11/site-packages (from jupyter-server<3,>=2.0.0->voila) (7.4.0)\r\n",
      "Requirement already satisfied: packaging in /Users/hyrintalion/anaconda3/lib/python3.11/site-packages (from jupyter-server<3,>=2.0.0->voila) (23.1)\r\n",
      "Requirement already satisfied: prometheus-client in /Users/hyrintalion/anaconda3/lib/python3.11/site-packages (from jupyter-server<3,>=2.0.0->voila) (0.14.1)\r\n",
      "Requirement already satisfied: send2trash>=1.8.2 in /Users/hyrintalion/anaconda3/lib/python3.11/site-packages (from jupyter-server<3,>=2.0.0->voila) (1.8.2)\r\n",
      "Requirement already satisfied: terminado>=0.8.3 in /Users/hyrintalion/anaconda3/lib/python3.11/site-packages (from jupyter-server<3,>=2.0.0->voila) (0.17.1)\r\n",
      "Requirement already satisfied: websocket-client in /Users/hyrintalion/anaconda3/lib/python3.11/site-packages (from jupyter-server<3,>=2.0.0->voila) (0.58.0)\r\n",
      "Requirement already satisfied: babel>=2.10 in /Users/hyrintalion/anaconda3/lib/python3.11/site-packages (from jupyterlab-server<3,>=2.3.0->voila) (2.11.0)\r\n",
      "Requirement already satisfied: json5>=0.9.0 in /Users/hyrintalion/anaconda3/lib/python3.11/site-packages (from jupyterlab-server<3,>=2.3.0->voila) (0.9.6)\r\n",
      "Requirement already satisfied: jsonschema>=4.17.3 in /Users/hyrintalion/anaconda3/lib/python3.11/site-packages (from jupyterlab-server<3,>=2.3.0->voila) (4.20.0)\r\n",
      "Requirement already satisfied: requests>=2.28 in /Users/hyrintalion/anaconda3/lib/python3.11/site-packages (from jupyterlab-server<3,>=2.3.0->voila) (2.31.0)\r\n",
      "Requirement already satisfied: lxml in /Users/hyrintalion/anaconda3/lib/python3.11/site-packages (from nbconvert<8,>=6.4.5->voila) (4.9.3)\r\n",
      "Requirement already satisfied: beautifulsoup4 in /Users/hyrintalion/anaconda3/lib/python3.11/site-packages (from nbconvert<8,>=6.4.5->voila) (4.12.2)\r\n",
      "Requirement already satisfied: bleach in /Users/hyrintalion/anaconda3/lib/python3.11/site-packages (from nbconvert<8,>=6.4.5->voila) (4.1.0)\r\n",
      "Requirement already satisfied: defusedxml in /Users/hyrintalion/anaconda3/lib/python3.11/site-packages (from nbconvert<8,>=6.4.5->voila) (0.7.1)\r\n",
      "Requirement already satisfied: jupyterlab-pygments in /Users/hyrintalion/anaconda3/lib/python3.11/site-packages (from nbconvert<8,>=6.4.5->voila) (0.1.2)\r\n",
      "Requirement already satisfied: MarkupSafe>=2.0 in /Users/hyrintalion/anaconda3/lib/python3.11/site-packages (from nbconvert<8,>=6.4.5->voila) (2.1.1)\r\n",
      "Requirement already satisfied: mistune<2,>=0.8.1 in /Users/hyrintalion/anaconda3/lib/python3.11/site-packages (from nbconvert<8,>=6.4.5->voila) (0.8.4)\r\n",
      "Requirement already satisfied: pandocfilters>=1.4.1 in /Users/hyrintalion/anaconda3/lib/python3.11/site-packages (from nbconvert<8,>=6.4.5->voila) (1.5.0)\r\n",
      "Requirement already satisfied: pygments>=2.4.1 in /Users/hyrintalion/anaconda3/lib/python3.11/site-packages (from nbconvert<8,>=6.4.5->voila) (2.15.1)\r\n",
      "Requirement already satisfied: tinycss2 in /Users/hyrintalion/anaconda3/lib/python3.11/site-packages (from nbconvert<8,>=6.4.5->voila) (1.2.1)\r\n",
      "Requirement already satisfied: idna>=2.8 in /Users/hyrintalion/anaconda3/lib/python3.11/site-packages (from anyio>=3.1.0->jupyter-server<3,>=2.0.0->voila) (3.4)\r\n",
      "Requirement already satisfied: sniffio>=1.1 in /Users/hyrintalion/anaconda3/lib/python3.11/site-packages (from anyio>=3.1.0->jupyter-server<3,>=2.0.0->voila) (1.2.0)\r\n",
      "Requirement already satisfied: pytz>=2015.7 in /Users/hyrintalion/anaconda3/lib/python3.11/site-packages (from babel>=2.10->jupyterlab-server<3,>=2.3.0->voila) (2023.3.post1)\r\n",
      "Requirement already satisfied: attrs>=22.2.0 in /Users/hyrintalion/anaconda3/lib/python3.11/site-packages (from jsonschema>=4.17.3->jupyterlab-server<3,>=2.3.0->voila) (23.1.0)\r\n",
      "Requirement already satisfied: jsonschema-specifications>=2023.03.6 in /Users/hyrintalion/anaconda3/lib/python3.11/site-packages (from jsonschema>=4.17.3->jupyterlab-server<3,>=2.3.0->voila) (2023.11.1)\r\n",
      "Requirement already satisfied: referencing>=0.28.4 in /Users/hyrintalion/anaconda3/lib/python3.11/site-packages (from jsonschema>=4.17.3->jupyterlab-server<3,>=2.3.0->voila) (0.31.0)\r\n",
      "Requirement already satisfied: rpds-py>=0.7.1 in /Users/hyrintalion/anaconda3/lib/python3.11/site-packages (from jsonschema>=4.17.3->jupyterlab-server<3,>=2.3.0->voila) (0.13.0)\r\n",
      "Requirement already satisfied: python-json-logger>=2.0.4 in /Users/hyrintalion/anaconda3/lib/python3.11/site-packages (from jupyter-events>=0.9.0->jupyter-server<3,>=2.0.0->voila) (2.0.7)\r\n",
      "Requirement already satisfied: pyyaml>=5.3 in /Users/hyrintalion/anaconda3/lib/python3.11/site-packages (from jupyter-events>=0.9.0->jupyter-server<3,>=2.0.0->voila) (6.0)\r\n",
      "Requirement already satisfied: rfc3339-validator in /Users/hyrintalion/anaconda3/lib/python3.11/site-packages (from jupyter-events>=0.9.0->jupyter-server<3,>=2.0.0->voila) (0.1.4)\r\n",
      "Requirement already satisfied: rfc3986-validator>=0.1.1 in /Users/hyrintalion/anaconda3/lib/python3.11/site-packages (from jupyter-events>=0.9.0->jupyter-server<3,>=2.0.0->voila) (0.1.1)\r\n",
      "Requirement already satisfied: fastjsonschema in /Users/hyrintalion/anaconda3/lib/python3.11/site-packages (from nbformat>=5.3.0->jupyter-server<3,>=2.0.0->voila) (2.16.2)\r\n",
      "Requirement already satisfied: six>=1.5 in /Users/hyrintalion/anaconda3/lib/python3.11/site-packages (from python-dateutil>=2.8.2->jupyter-client<9,>=7.4.4->voila) (1.16.0)\r\n",
      "Requirement already satisfied: charset-normalizer<4,>=2 in /Users/hyrintalion/anaconda3/lib/python3.11/site-packages (from requests>=2.28->jupyterlab-server<3,>=2.3.0->voila) (2.0.4)\r\n",
      "Requirement already satisfied: urllib3<3,>=1.21.1 in /Users/hyrintalion/anaconda3/lib/python3.11/site-packages (from requests>=2.28->jupyterlab-server<3,>=2.3.0->voila) (1.26.16)\r\n",
      "Requirement already satisfied: certifi>=2017.4.17 in /Users/hyrintalion/anaconda3/lib/python3.11/site-packages (from requests>=2.28->jupyterlab-server<3,>=2.3.0->voila) (2023.7.22)\r\n",
      "Requirement already satisfied: ptyprocess in /Users/hyrintalion/anaconda3/lib/python3.11/site-packages (from terminado>=0.8.3->jupyter-server<3,>=2.0.0->voila) (0.7.0)\r\n",
      "Requirement already satisfied: argon2-cffi-bindings in /Users/hyrintalion/anaconda3/lib/python3.11/site-packages (from argon2-cffi->jupyter-server<3,>=2.0.0->voila) (21.2.0)\r\n",
      "Requirement already satisfied: soupsieve>1.2 in /Users/hyrintalion/anaconda3/lib/python3.11/site-packages (from beautifulsoup4->nbconvert<8,>=6.4.5->voila) (2.4)\r\n",
      "Requirement already satisfied: webencodings in /Users/hyrintalion/anaconda3/lib/python3.11/site-packages (from bleach->nbconvert<8,>=6.4.5->voila) (0.5.1)\r\n",
      "Requirement already satisfied: fqdn in /Users/hyrintalion/anaconda3/lib/python3.11/site-packages (from jsonschema>=4.17.3->jupyterlab-server<3,>=2.3.0->voila) (1.5.1)\r\n",
      "Requirement already satisfied: isoduration in /Users/hyrintalion/anaconda3/lib/python3.11/site-packages (from jsonschema>=4.17.3->jupyterlab-server<3,>=2.3.0->voila) (20.11.0)\r\n",
      "Requirement already satisfied: jsonpointer>1.13 in /Users/hyrintalion/anaconda3/lib/python3.11/site-packages (from jsonschema>=4.17.3->jupyterlab-server<3,>=2.3.0->voila) (2.1)\r\n",
      "Requirement already satisfied: uri-template in /Users/hyrintalion/anaconda3/lib/python3.11/site-packages (from jsonschema>=4.17.3->jupyterlab-server<3,>=2.3.0->voila) (1.3.0)\r\n",
      "Requirement already satisfied: webcolors>=1.11 in /Users/hyrintalion/anaconda3/lib/python3.11/site-packages (from jsonschema>=4.17.3->jupyterlab-server<3,>=2.3.0->voila) (1.13)\r\n",
      "Requirement already satisfied: cffi>=1.0.1 in /Users/hyrintalion/anaconda3/lib/python3.11/site-packages (from argon2-cffi-bindings->argon2-cffi->jupyter-server<3,>=2.0.0->voila) (1.15.1)\r\n",
      "Requirement already satisfied: pycparser in /Users/hyrintalion/anaconda3/lib/python3.11/site-packages (from cffi>=1.0.1->argon2-cffi-bindings->argon2-cffi->jupyter-server<3,>=2.0.0->voila) (2.21)\r\n",
      "Requirement already satisfied: arrow>=0.15.0 in /Users/hyrintalion/anaconda3/lib/python3.11/site-packages (from isoduration->jsonschema>=4.17.3->jupyterlab-server<3,>=2.3.0->voila) (1.2.3)\r\n",
      "Enabling: voila\r\n",
      "- Writing config: /Users/hyrintalion/anaconda3/etc/jupyter\r\n",
      "    - Validating...\r\n",
      "      voila 0.5.5 \u001B[32mOK\u001B[0m\r\n"
     ]
    }
   ],
   "source": [
    "!pip install voila\n",
    "!jupyter serverextension enable --sys-prefix voila"
   ]
  },
  {
   "cell_type": "code",
   "execution_count": 5,
   "outputs": [],
   "source": [
    "from fastai.vision.all import *\n",
    "from fastai.vision.widgets import *"
   ],
   "metadata": {
    "collapsed": false,
    "ExecuteTime": {
     "end_time": "2023-11-17T15:56:20.388005Z",
     "start_time": "2023-11-17T15:56:20.354270Z"
    }
   },
   "id": "e7a4a15cc06d128c"
  },
  {
   "cell_type": "code",
   "execution_count": 7,
   "outputs": [],
   "source": [
    "btn_upload = widgets.FileUpload()\n",
    "btn_upload = SimpleNamespace(data = ['images/season.jpg'])\n",
    "img = PILImage.create(btn_upload.data[-1])\n",
    "out_pl = widgets.Output()\n",
    "out_pl.clear_output()\n",
    "with out_pl: display(img.to_thumb(128,128))"
   ],
   "metadata": {
    "collapsed": false,
    "ExecuteTime": {
     "end_time": "2023-11-17T15:58:30.293451Z",
     "start_time": "2023-11-17T15:58:30.127945Z"
    }
   },
   "id": "86ecc106a73be358"
  },
  {
   "cell_type": "code",
   "execution_count": 9,
   "outputs": [
    {
     "data": {
      "text/plain": "<IPython.core.display.HTML object>",
      "text/html": "\n<style>\n    /* Turns off some styling */\n    progress {\n        /* gets rid of default border in Firefox and Opera. */\n        border: none;\n        /* Needs to be in here for Safari polyfill so background images work as expected. */\n        background-size: auto;\n    }\n    progress:not([value]), progress:not([value])::-webkit-progress-bar {\n        background: repeating-linear-gradient(45deg, #7e7e7e, #7e7e7e 10px, #5c5c5c 10px, #5c5c5c 20px);\n    }\n    .progress-bar-interrupted, .progress-bar-interrupted::-webkit-progress-bar {\n        background: #F44336;\n    }\n</style>\n"
     },
     "metadata": {},
     "output_type": "display_data"
    },
    {
     "data": {
      "text/plain": "<IPython.core.display.HTML object>",
      "text/html": "\n    <div>\n      <progress value='0' class='' max='1' style='width:300px; height:20px; vertical-align: middle;'></progress>\n      \n    </div>\n    "
     },
     "metadata": {},
     "output_type": "display_data"
    }
   ],
   "source": [
    "pred,pred_idx,probs = learn_inf.predict(img)"
   ],
   "metadata": {
    "collapsed": false,
    "ExecuteTime": {
     "end_time": "2023-11-17T15:58:59.581035Z",
     "start_time": "2023-11-17T15:58:58.367014Z"
    }
   },
   "id": "d00035f9eb93c31d"
  },
  {
   "cell_type": "code",
   "execution_count": 10,
   "outputs": [
    {
     "data": {
      "text/plain": "Label(value='Prediction: autumn; Probability: 0.9340')",
      "application/vnd.jupyter.widget-view+json": {
       "version_major": 2,
       "version_minor": 0,
       "model_id": "f089945bfca3475a88deb87f1396cfc4"
      }
     },
     "metadata": {},
     "output_type": "display_data"
    }
   ],
   "source": [
    "lbl_pred = widgets.Label()\n",
    "lbl_pred.value = f'Prediction: {pred}; Probability: {probs[pred_idx]:.04f}'\n",
    "lbl_pred"
   ],
   "metadata": {
    "collapsed": false,
    "ExecuteTime": {
     "end_time": "2023-11-17T15:59:00.921016Z",
     "start_time": "2023-11-17T15:59:00.787829Z"
    }
   },
   "id": "c15cf8179e99c693"
  },
  {
   "cell_type": "code",
   "execution_count": 12,
   "outputs": [],
   "source": [
    "btn_run = widgets.Button(description='Classify')"
   ],
   "metadata": {
    "collapsed": false,
    "ExecuteTime": {
     "end_time": "2023-11-17T15:59:07.930486Z",
     "start_time": "2023-11-17T15:59:07.886414Z"
    }
   },
   "id": "3ba39e2684e8be71"
  },
  {
   "cell_type": "code",
   "execution_count": 13,
   "outputs": [],
   "source": [
    "def on_click_classify(change):\n",
    "    img = PILImage.create(btn_upload.data[-1])\n",
    "    out_pl.clear_output()\n",
    "    with out_pl: display(img.to_thumb(128,128))\n",
    "    pred,pred_idx,probs = learn_inf.predict(img)\n",
    "    lbl_pred.value = f'Prediction: {pred}; Probability: {probs[pred_idx]:.04f}'\n",
    "\n",
    "btn_run.on_click(on_click_classify)\n",
    "     "
   ],
   "metadata": {
    "collapsed": false,
    "ExecuteTime": {
     "end_time": "2023-11-17T15:59:17.877210Z",
     "start_time": "2023-11-17T15:59:17.847411Z"
    }
   },
   "id": "51b7af591a3af814"
  },
  {
   "cell_type": "code",
   "execution_count": 14,
   "outputs": [],
   "source": [
    "btn_upload = widgets.FileUpload()"
   ],
   "metadata": {
    "collapsed": false,
    "ExecuteTime": {
     "end_time": "2023-11-17T15:59:26.828755Z",
     "start_time": "2023-11-17T15:59:26.797633Z"
    }
   },
   "id": "612b02a512d146dc"
  },
  {
   "cell_type": "code",
   "execution_count": 15,
   "outputs": [
    {
     "data": {
      "text/plain": "VBox(children=(Label(value='Select image to check the season!'), FileUpload(value={}, description='Upload'), B…",
      "application/vnd.jupyter.widget-view+json": {
       "version_major": 2,
       "version_minor": 0,
       "model_id": "5cb78070a3eb4b45a5176bc3405a40ba"
      }
     },
     "metadata": {},
     "output_type": "display_data"
    }
   ],
   "source": [
    "VBox([widgets.Label('Select image to check the season!'), \n",
    "      btn_upload, btn_run, out_pl, lbl_pred])\n",
    "     "
   ],
   "metadata": {
    "collapsed": false,
    "ExecuteTime": {
     "end_time": "2023-11-17T15:59:43.462573Z",
     "start_time": "2023-11-17T15:59:43.429935Z"
    }
   },
   "id": "3a1e535db07cc3bb"
  },
  {
   "cell_type": "code",
   "execution_count": null,
   "outputs": [],
   "source": [],
   "metadata": {
    "collapsed": false
   },
   "id": "53774daaeb38f977"
  }
 ],
 "metadata": {
  "kernelspec": {
   "display_name": "Python 3",
   "language": "python",
   "name": "python3"
  },
  "language_info": {
   "codemirror_mode": {
    "name": "ipython",
    "version": 2
   },
   "file_extension": ".py",
   "mimetype": "text/x-python",
   "name": "python",
   "nbconvert_exporter": "python",
   "pygments_lexer": "ipython2",
   "version": "2.7.6"
  }
 },
 "nbformat": 4,
 "nbformat_minor": 5
}
